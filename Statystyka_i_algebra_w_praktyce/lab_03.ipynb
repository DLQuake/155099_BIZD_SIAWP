{
 "cells": [
  {
   "cell_type": "markdown",
   "metadata": {},
   "source": [
    "<h1 align=\"center\">Ćwiczenie 4 Testowanie hipotez statystycznych</h1>\n",
    "<h3 align=\"center\">Dominik Lewczyński, 155099</h3>"
   ]
  },
  {
   "cell_type": "code",
   "execution_count": 65,
   "metadata": {},
   "outputs": [],
   "source": [
    "# Import bibliotek\n",
    "import numpy as np\n",
    "import pandas as pd\n",
    "from scipy.stats import ttest_1samp\n",
    "from scipy.stats import shapiro\n",
    "from scipy.stats import ttest_ind\n",
    "from scipy.stats import levene\n",
    "from scipy.stats import ttest_rel"
   ]
  },
  {
   "cell_type": "markdown",
   "metadata": {},
   "source": [
    "### 1. Wygeneruj próbę losową dla rozkładu normalnego dla średniej = 2, odchylenia = 30 i liczby elementów = 200. Zbadaj hipotezę mówiącą o tym, że średnia tego rozkładu jest równa 2,5.\n"
   ]
  },
  {
   "cell_type": "code",
   "execution_count": 66,
   "metadata": {},
   "outputs": [
    {
     "name": "stdout",
     "output_type": "stream",
     "text": [
      "Statystyka testowa: -0.8724891121311197\n",
      "Wartość p: 0.3839931090277108\n",
      "Nie ma podstaw do odrzucenia hipotezy zerowej - brak istotnych różnic między średnią próbki a założoną wartością.\n"
     ]
    }
   ],
   "source": [
    "# Parametry rozkładu normalnego\n",
    "srednia = 2\n",
    "odchylenie = 30\n",
    "liczba_elementow = 200\n",
    "\n",
    "# Wygenerowanie próbki losowej\n",
    "np.random.seed(42)  # Aby uzyskać te same wyniki przy każdym uruchomieniu\n",
    "próbka = np.random.normal(loc=srednia, scale=odchylenie, size=liczba_elementow)\n",
    "\n",
    "# Testowanie hipotezy\n",
    "wartość_testowa = 2.5\n",
    "statystyka_testowa, p_value = ttest_1samp(próbka, wartość_testowa)\n",
    "\n",
    "# Interpretacja wyników\n",
    "alfa = 0.05  # Poziom istotności\n",
    "print(f'Statystyka testowa: {statystyka_testowa}')\n",
    "print(f'Wartość p: {p_value}')\n",
    "\n",
    "if p_value < alfa:\n",
    "    print(\"Odrzucamy hipotezę zerową - istnieją istotne różnice między średnią próbki a założoną wartością.\")\n",
    "else:\n",
    "    print(\"Nie ma podstaw do odrzucenia hipotezy zerowej - brak istotnych różnic między średnią próbki a założoną wartością.\")\n"
   ]
  },
  {
   "cell_type": "markdown",
   "metadata": {},
   "source": [
    "### 2. Wczytaj plik napoje.csv do pandas DataFrame. Zweryfikuj hipotezę że średnie spożycie piwa lech wynosi 60500, coli wynosi 222000, piw regionalne wynosi 43500. "
   ]
  },
  {
   "cell_type": "code",
   "execution_count": 67,
   "metadata": {},
   "outputs": [
    {
     "name": "stdout",
     "output_type": "stream",
     "text": [
      "\n",
      "Test dla pepsi:\n",
      "Średnia założona: 60500\n",
      "Statystyka testowa: 130.66976984692985\n",
      "Wartość p: 8.935296030003238e-189\n",
      "Odrzucamy hipotezę zerową - istnieją istotne różnice między średnią spożycia a założoną wartością.\n",
      "\n",
      "Test dla cola:\n",
      "Średnia założona: 222000\n",
      "Statystyka testowa: 6.391908975571081\n",
      "Wartość p: 1.2249714535216756e-09\n",
      "Odrzucamy hipotezę zerową - istnieją istotne różnice między średnią spożycia a założoną wartością.\n",
      "\n",
      "Test dla regionalne:\n",
      "Średnia założona: 43500\n",
      "Statystyka testowa: 17.440927488514944\n",
      "Wartość p: 2.2572528828603765e-41\n",
      "Odrzucamy hipotezę zerową - istnieją istotne różnice między średnią spożycia a założoną wartością.\n",
      "\n",
      "Test dla lech:\n",
      "Średnia założona: 60500\n",
      "Statystyka testowa: 1.646503944538866\n",
      "Wartość p: 0.10130442686854728\n",
      "Nie ma podstaw do odrzucenia hipotezy zerowej - brak istotnych różnic między średnią spożycia a założoną wartością.\n"
     ]
    }
   ],
   "source": [
    "# Wczytaj plik CSV do ramki danych\n",
    "df = pd.read_csv('./Files/napoje.csv', delimiter=';')\n",
    "\n",
    "# Parametry średnich spożycia\n",
    "srednie_spozycie = {'pepsi': 60500, 'cola': 222000, 'regionalne': 43500, 'lech': 60500}\n",
    "\n",
    "# Iteracja po kolumnach i przeprowadzenie testu t dla każdej kolumny\n",
    "for napoj, srednia_założona in srednie_spozycie.items():\n",
    "    statystyka_testowa, p_value = ttest_1samp(df[napoj], srednia_założona)\n",
    "\n",
    "    print(f'\\nTest dla {napoj}:')\n",
    "    print(f'Średnia założona: {srednia_założona}')\n",
    "    print(f'Statystyka testowa: {statystyka_testowa}')\n",
    "    print(f'Wartość p: {p_value}')\n",
    "\n",
    "    alfa = 0.05  # Poziom istotności\n",
    "    if p_value < alfa:\n",
    "        print(\"Odrzucamy hipotezę zerową - istnieją istotne różnice między średnią spożycia a założoną wartością.\")\n",
    "    else:\n",
    "        print(\"Nie ma podstaw do odrzucenia hipotezy zerowej - brak istotnych różnic między średnią spożycia a założoną wartością.\")\n"
   ]
  },
  {
   "cell_type": "markdown",
   "metadata": {},
   "source": [
    "### 3. Sprawdzić która zmienna w pliku napoje.csv wykazuje normalność\n"
   ]
  },
  {
   "cell_type": "code",
   "execution_count": 68,
   "metadata": {},
   "outputs": [
    {
     "name": "stdout",
     "output_type": "stream",
     "text": [
      "\n",
      "Test normalności dla zmiennej pepsi:\n",
      "Statystyka testowa: 0.9912384748458862\n",
      "Wartość p: 0.2968809902667999\n",
      "Nie ma podstaw do odrzucenia hipotezy zerowej - zmienna wykazuje normalność.\n",
      "\n",
      "Test normalności dla zmiennej fanta :\n",
      "Statystyka testowa: 0.9894830584526062\n",
      "Wartość p: 0.17036965489387512\n",
      "Nie ma podstaw do odrzucenia hipotezy zerowej - zmienna wykazuje normalność.\n",
      "\n",
      "Test normalności dla zmiennej żywiec:\n",
      "Statystyka testowa: 0.9913601875305176\n",
      "Wartość p: 0.3080885708332062\n",
      "Nie ma podstaw do odrzucenia hipotezy zerowej - zmienna wykazuje normalność.\n",
      "\n",
      "Test normalności dla zmiennej okocim:\n",
      "Statystyka testowa: 0.9875098466873169\n",
      "Wartość p: 0.08890535682439804\n",
      "Nie ma podstaw do odrzucenia hipotezy zerowej - zmienna wykazuje normalność.\n",
      "\n",
      "Test normalności dla zmiennej regionalne:\n",
      "Statystyka testowa: 0.936504602432251\n",
      "Wartość p: 1.8769230791804148e-07\n",
      "Odrzucamy hipotezę zerową - zmienna nie wykazuje normalności.\n",
      "\n",
      "Test normalności dla zmiennej cola:\n",
      "Statystyka testowa: 0.993564248085022\n",
      "Wartość p: 0.5694407224655151\n",
      "Nie ma podstaw do odrzucenia hipotezy zerowej - zmienna wykazuje normalność.\n",
      "\n",
      "Test normalności dla zmiennej lech:\n",
      "Statystyka testowa: 0.9936927556991577\n",
      "Wartość p: 0.5875554084777832\n",
      "Nie ma podstaw do odrzucenia hipotezy zerowej - zmienna wykazuje normalność.\n"
     ]
    }
   ],
   "source": [
    "# Sprawdź normalność dla każdej kolumny\n",
    "for column in df.columns[2:]:\n",
    "    stat, p_value = shapiro(df[column])\n",
    "\n",
    "    print(f'\\nTest normalności dla zmiennej {column}:')\n",
    "    print(f'Statystyka testowa: {stat}')\n",
    "    print(f'Wartość p: {p_value}')\n",
    "\n",
    "    alfa = 0.05  # Poziom istotności\n",
    "    if p_value < alfa:\n",
    "        print(\"Odrzucamy hipotezę zerową - zmienna nie wykazuje normalności.\")\n",
    "    else:\n",
    "        print(\"Nie ma podstaw do odrzucenia hipotezy zerowej - zmienna wykazuje normalność.\")\n"
   ]
  },
  {
   "cell_type": "markdown",
   "metadata": {},
   "source": [
    "### 4. Zbadaj równość średnich dla następujących par: okocim – lech, fanta – regionalne oraz cola – pepsi.\n"
   ]
  },
  {
   "cell_type": "code",
   "execution_count": 69,
   "metadata": {},
   "outputs": [
    {
     "name": "stdout",
     "output_type": "stream",
     "text": [
      "\n",
      "Test dla pary ('okocim', 'lech'):\n",
      "Statystyka testowa: -0.8323919685480173\n",
      "Wartość p: 0.4057078093583594\n",
      "Nie ma podstaw do odrzucenia hipotezy zerowej - brak istotnych różnic między średnimi.\n",
      "\n",
      "Test dla pary ('fanta ', 'regionalne'):\n",
      "Statystyka testowa: -11.013919429372727\n",
      "Wartość p: 1.097001288015355e-24\n",
      "Odrzucamy hipotezę zerową - istnieją istotne różnice między średnimi.\n",
      "\n",
      "Test dla pary ('cola', 'pepsi'):\n",
      "Statystyka testowa: 145.61815604546564\n",
      "Wartość p: 0.0\n",
      "Odrzucamy hipotezę zerową - istnieją istotne różnice między średnimi.\n"
     ]
    }
   ],
   "source": [
    "# Pary do zbadania\n",
    "pary = [('okocim', 'lech'), ('fanta ', 'regionalne'), ('cola', 'pepsi')]\n",
    "\n",
    "# Przeprowadź testy t-Studenta dla każdej pary\n",
    "for para in pary:\n",
    "    zmienna1, zmienna2 = para\n",
    "    statystyka_testowa, p_value = ttest_ind(df[zmienna1], df[zmienna2])\n",
    "\n",
    "    print(f'\\nTest dla pary {para}:')\n",
    "    print(f'Statystyka testowa: {statystyka_testowa}')\n",
    "    print(f'Wartość p: {p_value}')\n",
    "\n",
    "    alfa = 0.05  # Poziom istotności\n",
    "    if p_value < alfa:\n",
    "        print(\"Odrzucamy hipotezę zerową - istnieją istotne różnice między średnimi.\")\n",
    "    else:\n",
    "        print(\"Nie ma podstaw do odrzucenia hipotezy zerowej - brak istotnych różnic między średnimi.\")\n"
   ]
  },
  {
   "cell_type": "markdown",
   "metadata": {},
   "source": [
    "### 5. Zbadaj równość wariancji pomiędzy okocim – lech, żywiec – fanta oraz regionalne – cola.\n"
   ]
  },
  {
   "cell_type": "code",
   "execution_count": 70,
   "metadata": {},
   "outputs": [
    {
     "name": "stdout",
     "output_type": "stream",
     "text": [
      "\n",
      "Test Levene'a dla pary ('okocim', 'lech'):\n",
      "Statystyka testowa: 1.191182232831977\n",
      "Wartość p: 0.2757791126546958\n",
      "Nie ma podstaw do odrzucenia hipotezy zerowej - brak istotnych różnic w wariancjach.\n",
      "\n",
      "Test Levene'a dla pary ('żywiec', 'fanta '):\n",
      "Statystyka testowa: 1.4760992846958803\n",
      "Wartość p: 0.22513624629834209\n",
      "Nie ma podstaw do odrzucenia hipotezy zerowej - brak istotnych różnic w wariancjach.\n",
      "\n",
      "Test Levene'a dla pary ('regionalne', 'cola'):\n",
      "Statystyka testowa: 83.85984593010029\n",
      "Wartość p: 3.275749775904902e-18\n",
      "Odrzucamy hipotezę zerową - istnieją istotne różnice w wariancjach.\n"
     ]
    }
   ],
   "source": [
    "# Pary do zbadania wariancji\n",
    "pary_wariancji = [('okocim', 'lech'), ('żywiec', 'fanta '), ('regionalne', 'cola')]\n",
    "\n",
    "# Przeprowadź testy Levene'a dla każdej pary\n",
    "for para in pary_wariancji:\n",
    "    zmienna1, zmienna2 = para\n",
    "    statystyka_testowa, p_value = levene(df[zmienna1], df[zmienna2])\n",
    "\n",
    "    print(f'\\nTest Levene\\'a dla pary {para}:')\n",
    "    print(f'Statystyka testowa: {statystyka_testowa}')\n",
    "    print(f'Wartość p: {p_value}')\n",
    "\n",
    "    alfa = 0.05  # Poziom istotności\n",
    "    if p_value < alfa:\n",
    "        print(\"Odrzucamy hipotezę zerową - istnieją istotne różnice w wariancjach.\")\n",
    "    else:\n",
    "        print(\"Nie ma podstaw do odrzucenia hipotezy zerowej - brak istotnych różnic w wariancjach.\")\n"
   ]
  },
  {
   "cell_type": "markdown",
   "metadata": {},
   "source": [
    "### 6. Zbadaj równość średnich pomiędzy latami 2001 i 2015 dla piw regionalnych.\n"
   ]
  },
  {
   "cell_type": "code",
   "execution_count": 71,
   "metadata": {},
   "outputs": [
    {
     "name": "stdout",
     "output_type": "stream",
     "text": [
      "\n",
      "Test t-Studenta dla średnich piw regionalnych między latami 2001 i 2015:\n",
      "Statystyka testowa: -3.5977780582718273\n",
      "Wartość p: 0.0016000242362201897\n",
      "Odrzucamy hipotezę zerową - istnieją istotne różnice między średnimi.\n"
     ]
    }
   ],
   "source": [
    "# Wybierz dane dla piw regionalnych dla lat 2001 i 2015\n",
    "piwa_regionalne_2001 = df.loc[df['rok'] == 2001, 'regionalne']\n",
    "piwa_regionalne_2015 = df.loc[df['rok'] == 2015, 'regionalne']\n",
    "\n",
    "# Przeprowadź test t-Studenta dla dwóch niezależnych prób\n",
    "statystyka_testowa, p_value = ttest_ind(piwa_regionalne_2001, piwa_regionalne_2015)\n",
    "\n",
    "print('\\nTest t-Studenta dla średnich piw regionalnych między latami 2001 i 2015:')\n",
    "print(f'Statystyka testowa: {statystyka_testowa}')\n",
    "print(f'Wartość p: {p_value}')\n",
    "\n",
    "alfa = 0.05  # Poziom istotności\n",
    "if p_value < alfa:\n",
    "    print(\"Odrzucamy hipotezę zerową - istnieją istotne różnice między średnimi.\")\n",
    "else:\n",
    "    print(\"Nie ma podstaw do odrzucenia hipotezy zerowej - brak istotnych różnic między średnimi.\")\n"
   ]
  },
  {
   "cell_type": "markdown",
   "metadata": {},
   "source": [
    "### 7. Zbadaj równość średnich dla wartości z roku 2016 oraz dla wartości z pliku napoje_po_reklamie.csv oddzielnie dla coli, fanty i pepsi. Zakładamy, że zmienne te są zależne."
   ]
  },
  {
   "cell_type": "code",
   "execution_count": 72,
   "metadata": {},
   "outputs": [
    {
     "name": "stdout",
     "output_type": "stream",
     "text": [
      "\n",
      "Test t-Studenta dla równości średnich dla coli w 2016 roku:\n",
      "Statystyka testowa: 0.11032676911481809\n",
      "Wartość p: 0.9141373808316627\n",
      "Nie ma podstaw do odrzucenia hipotezy zerowej - brak istotnych różnic między średnimi dla coli.\n",
      "\n",
      "Test t-Studenta dla równości średnich dla pepsi w 2016 roku:\n",
      "Statystyka testowa: -0.20520478240138978\n",
      "Wartość p: 0.8411601080767367\n",
      "Nie ma podstaw do odrzucenia hipotezy zerowej - brak istotnych różnic między średnimi dla pepsi.\n",
      "\n",
      "Test t-Studenta dla równości średnich dla fanty w 2016 roku:\n",
      "Statystyka testowa: 0.3199018672121306\n",
      "Wartość p: 0.7550366759257837\n",
      "Nie ma podstaw do odrzucenia hipotezy zerowej - brak istotnych różnic między średnimi dla fanty.\n"
     ]
    }
   ],
   "source": [
    "# Wczytaj pliki CSV do ramek danych\n",
    "df1 = pd.read_csv('./Files/napoje.csv', delimiter=';')\n",
    "df2 = pd.read_csv('./Files/napoje_po_reklamie.csv', delimiter=';')\n",
    "\n",
    "# Wybierz dane dla coli, fanty i pepsi z roku 2016\n",
    "colapepsi_2016_df1 = df1[df1['rok'] == 2016][['cola', 'pepsi']]\n",
    "colapepsi_2016_df2 = df2[['cola', 'pepsi']]\n",
    "\n",
    "fanty_2016_df1 = df1[df1['rok'] == 2016]['fanta ']\n",
    "fanty_2016_df2 = df2['fanta ']\n",
    "\n",
    "# Przeprowadź testy t-Studenta dla dwóch powiązanych prób\n",
    "statystyka_testowa_cola, p_value_cola = ttest_rel(colapepsi_2016_df1['cola'], colapepsi_2016_df2['cola'])\n",
    "statystyka_testowa_pepsi, p_value_pepsi = ttest_rel(colapepsi_2016_df1['pepsi'], colapepsi_2016_df2['pepsi'])\n",
    "statystyka_testowa_fanta, p_value_fanta = ttest_rel(fanty_2016_df1, fanty_2016_df2)\n",
    "\n",
    "print('\\nTest t-Studenta dla równości średnich dla coli w 2016 roku:')\n",
    "print(f'Statystyka testowa: {statystyka_testowa_cola}')\n",
    "print(f'Wartość p: {p_value_cola}')\n",
    "\n",
    "alfa = 0.05  # Poziom istotności\n",
    "if p_value_cola < alfa:\n",
    "    print(\"Odrzucamy hipotezę zerową - istnieją istotne różnice między średnimi dla coli.\")\n",
    "else:\n",
    "    print(\"Nie ma podstaw do odrzucenia hipotezy zerowej - brak istotnych różnic między średnimi dla coli.\")\n",
    "\n",
    "print('\\nTest t-Studenta dla równości średnich dla pepsi w 2016 roku:')\n",
    "print(f'Statystyka testowa: {statystyka_testowa_pepsi}')\n",
    "print(f'Wartość p: {p_value_pepsi}')\n",
    "\n",
    "if p_value_pepsi < alfa:\n",
    "    print(\"Odrzucamy hipotezę zerową - istnieją istotne różnice między średnimi dla pepsi.\")\n",
    "else:\n",
    "    print(\"Nie ma podstaw do odrzucenia hipotezy zerowej - brak istotnych różnic między średnimi dla pepsi.\")\n",
    "\n",
    "print('\\nTest t-Studenta dla równości średnich dla fanty w 2016 roku:')\n",
    "print(f'Statystyka testowa: {statystyka_testowa_fanta}')\n",
    "print(f'Wartość p: {p_value_fanta}')\n",
    "\n",
    "if p_value_fanta < alfa:\n",
    "    print(\"Odrzucamy hipotezę zerową - istnieją istotne różnice między średnimi dla fanty.\")\n",
    "else:\n",
    "    print(\"Nie ma podstaw do odrzucenia hipotezy zerowej - brak istotnych różnic między średnimi dla fanty.\")\n"
   ]
  }
 ],
 "metadata": {
  "kernelspec": {
   "display_name": "Python 3",
   "language": "python",
   "name": "python3"
  },
  "language_info": {
   "codemirror_mode": {
    "name": "ipython",
    "version": 3
   },
   "file_extension": ".py",
   "mimetype": "text/x-python",
   "name": "python",
   "nbconvert_exporter": "python",
   "pygments_lexer": "ipython3",
   "version": "3.10.10"
  }
 },
 "nbformat": 4,
 "nbformat_minor": 2
}
