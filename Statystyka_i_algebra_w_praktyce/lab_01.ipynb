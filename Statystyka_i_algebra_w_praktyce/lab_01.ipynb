{
 "cells": [
  {
   "cell_type": "markdown",
   "metadata": {},
   "source": [
    "<h1 align=\"center\">Ćwiczenie 1 Statystyki Opisowe</h1>\n",
    "<h3 align=\"center\">Dominik Lewczyński, 155099</h3>"
   ]
  },
  {
   "cell_type": "code",
   "execution_count": 5,
   "metadata": {},
   "outputs": [],
   "source": [
    "# Import bibliotek\n",
    "import numpy as np\n",
    "import pandas as pd\n",
    "import matplotlib.pyplot as plt\n",
    "import statistics\n",
    "from scipy import stats"
   ]
  },
  {
   "cell_type": "markdown",
   "metadata": {},
   "source": [
    "### 1. Ściągnij plik csv z https://extranet.who.int/tme/generateCSV.asp?ds=mdr_estimates. Zaimportuj wybraną kolumnę numeryczną z pliku do Pythona. Oblicz podstawowe statystyki dla zaimportowanych danych.\n"
   ]
  },
  {
   "cell_type": "code",
   "execution_count": 6,
   "metadata": {},
   "outputs": [
    {
     "name": "stdout",
     "output_type": "stream",
     "text": [
      "Średnia: 3.725372093023256\n",
      "Mediana: 2.1\n",
      "Odchylenie standardowe: 5.751976222191101\n"
     ]
    }
   ],
   "source": [
    "df = pd.read_csv('./Files/MDR_RR_TB_burden_estimates_2023-11-29.csv')\n",
    "\n",
    "# Wybierz kolumnę numeryczną\n",
    "column = \"e_rr_pct_new\"\n",
    "\n",
    "# Oblicz podstawowe statystyki\n",
    "mean = df[column].mean()\n",
    "median = df[column].median()\n",
    "std_dev = df[column].std()\n",
    "\n",
    "print(f\"Średnia: {mean}\")\n",
    "print(f\"Mediana: {median}\")\n",
    "print(f\"Odchylenie standardowe: {std_dev}\")\n"
   ]
  },
  {
   "cell_type": "markdown",
   "metadata": {},
   "source": [
    "### 2. Wgraj plik Wzrost.csv. Użyj dla niego funkcji z modułu statistics. Czym różnią się funkcje dotyczące wariancji i odchylenia standardowego?\n"
   ]
  },
  {
   "cell_type": "code",
   "execution_count": 7,
   "metadata": {},
   "outputs": [
    {
     "name": "stdout",
     "output_type": "stream",
     "text": [
      "Średnia: 174.16666666666666\n",
      "Wariancja: 269.6764705882353\n",
      "Odchylenie standardowe: 16.42182908777933\n"
     ]
    }
   ],
   "source": [
    "with open('./Files/Wzrost.csv', 'r') as file:\n",
    "    raw_data = file.read()\n",
    "\n",
    "data_array = np.fromstring(raw_data, sep=',')\n",
    "\n",
    "data_list = data_array.tolist()\n",
    "\n",
    "mean_value = statistics.mean(data_list)\n",
    "variance_value = statistics.variance(data_list)\n",
    "std_deviation_value = statistics.stdev(data_list)\n",
    "\n",
    "print(f\"Średnia: {mean_value}\")\n",
    "print(f\"Wariancja: {variance_value}\")\n",
    "print(f\"Odchylenie standardowe: {std_deviation_value}\")\n"
   ]
  },
  {
   "cell_type": "markdown",
   "metadata": {},
   "source": [
    "### 3. Znajdź dowolny plik csv. Zastosuj do niego statystyki z biblioteki scipy.stats. Sprawdź, jakie inne statystyki opisowe można znaleźć w tej bibliotece. \n"
   ]
  },
  {
   "cell_type": "code",
   "execution_count": 8,
   "metadata": {},
   "outputs": [
    {
     "name": "stdout",
     "output_type": "stream",
     "text": [
      "Funkcja describe do obliczania statystyk\n",
      "Statystyki dla kolumny e_rr_pct_new_hi:\n",
      "DescribeResult(nobs=1720, minmax=(0.44, 41.0), mean=5.972331395348837, variance=39.47254144915918, skewness=2.6323302570510303, kurtosis=8.09325717198278)\n",
      "\n",
      "Inne statystyki jakie mozna znaleźć w bibliotece scipy.stats\n",
      "Statystyki dla kolumny e_rr_pct_new_hi:\n",
      "Średnia geometryczna:\n",
      "4.0825744041848875\n",
      "Średnia harmoniczna:\n",
      "2.943943540368067\n",
      "Błąd standardowy średniej:\n",
      "0.15148977525009769\n",
      "Moda:\n",
      "ModeResult(mode=array([2.6]), count=array([47]))\n",
      "Mediana:\n",
      "3.7\n",
      "Wariancja:\n",
      "39.449592297153856\n",
      "Skośność:\n",
      "2.6323302570510303\n",
      "Kurtoza:\n",
      "8.09325717198278\n",
      "\n",
      "\n"
     ]
    },
    {
     "name": "stderr",
     "output_type": "stream",
     "text": [
      "C:\\Users\\domin\\AppData\\Local\\Temp\\ipykernel_22472\\2824840235.py:24: FutureWarning: Unlike other reduction functions (e.g. `skew`, `kurtosis`), the default behavior of `mode` typically preserves the axis it acts along. In SciPy 1.11.0, this behavior will change: the default value of `keepdims` will become False, the `axis` over which the statistic is taken will be eliminated, and the value None will no longer be accepted. Set `keepdims` to True or False to avoid this warning.\n",
      "  print(stats.mode(df[column]))\n"
     ]
    }
   ],
   "source": [
    "df = pd.read_csv('./Files/MDR_RR_TB_burden_estimates_2023-11-29.csv')\n",
    "\n",
    "column = \"e_rr_pct_new_hi\"\n",
    "\n",
    "print(\"Funkcja describe do obliczania statystyk\")\n",
    "print(f\"Statystyki dla kolumny {column}:\")\n",
    "print(stats.describe(df[column]))\n",
    "print()\n",
    "\n",
    "\n",
    "print(\"Inne statystyki jakie mozna znaleźć w bibliotece scipy.stats\")\n",
    "print(f\"Statystyki dla kolumny {column}:\")\n",
    "# Średnia geometryczna\n",
    "print(\"Średnia geometryczna:\")\n",
    "print(stats.gmean(df[column]))\n",
    "# Średnia harmoniczna\n",
    "print(\"Średnia harmoniczna:\")\n",
    "print(stats.hmean(df[column]))\n",
    "# Błąd standardowy średniej\n",
    "print(\"Błąd standardowy średniej:\")\n",
    "print(stats.sem(df[column]))\n",
    "# Moda\n",
    "print(\"Moda:\")\n",
    "print(stats.mode(df[column]))\n",
    "# Mediana\n",
    "print(\"Mediana:\")\n",
    "print(np.median(df[column]))\n",
    "# Wariancja\n",
    "print(\"Wariancja:\")\n",
    "print(np.var(df[column]))\n",
    "# Skośność\n",
    "print(\"Skośność:\")\n",
    "print(stats.skew(df[column]))\n",
    "# Kurtoza\n",
    "print(\"Kurtoza:\")\n",
    "print(stats.kurtosis(df[column]))\n",
    "print(\"\\n\")\n"
   ]
  },
  {
   "cell_type": "markdown",
   "metadata": {},
   "source": [
    "### 4. Załaduj plik brain_size.csv do pandas DataFrame. Znajdź średnią dla kolumny VIQ. Ile kobiet i mężczyzn jest wyróżnionych w pliku. Wyświetl histogramy dla zmiennych VIQ, PIQ, FSIQ. Wyświetl histogramy trzech kolumn tylko dla kobiet. \n"
   ]
  },
  {
   "cell_type": "code",
   "execution_count": 9,
   "metadata": {},
   "outputs": [
    {
     "name": "stdout",
     "output_type": "stream",
     "text": [
      "Średnia dla kolumny VIQ: 112.35\n",
      "Liczba kobiet: 20, Liczba mężczyzn: 20\n"
     ]
    },
    {
     "data": {
      "image/png": "[encoded data removed]",
      "text/plain": [
       "<Figure size 640x480 with 4 Axes>"
      ]
     },
     "metadata": {},
     "output_type": "display_data"
    },
    {
     "data": {
      "image/png": "[encoded data removed]",
      "text/plain": [
       "<Figure size 640x480 with 4 Axes>"
      ]
     },
     "metadata": {},
     "output_type": "display_data"
    }
   ],
   "source": [
    "df = pd.read_csv('./Files/brain_size.csv', sep=';')\n",
    "\n",
    "mean_viq = df['VIQ'].mean()\n",
    "print(f'Średnia dla kolumny VIQ: {mean_viq}')\n",
    "\n",
    "num_women = df[df['Gender'] == 'Female'].shape[0]\n",
    "num_men = df[df['Gender'] == 'Male'].shape[0]\n",
    "print(f'Liczba kobiet: {num_women}, Liczba mężczyzn: {num_men}')\n",
    "\n",
    "df[['VIQ', 'PIQ', 'FSIQ']].hist(bins=20)\n",
    "plt.show()\n",
    "\n",
    "df[df['Gender'] == 'Female'][['VIQ', 'PIQ', 'FSIQ']].hist(bins=20)\n",
    "plt.show()\n"
   ]
  }
 ],
 "metadata": {
  "kernelspec": {
   "display_name": "Python 3",
   "language": "python",
   "name": "python3"
  },
  "language_info": {
   "codemirror_mode": {
    "name": "ipython",
    "version": 3
   },
   "file_extension": ".py",
   "mimetype": "text/x-python",
   "name": "python",
   "nbconvert_exporter": "python",
   "pygments_lexer": "ipython3",
   "version": "3.10.10"
  }
 },
 "nbformat": 4,
 "nbformat_minor": 2
}
